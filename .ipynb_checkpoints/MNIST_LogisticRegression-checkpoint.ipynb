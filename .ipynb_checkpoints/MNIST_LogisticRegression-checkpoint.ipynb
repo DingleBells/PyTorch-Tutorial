{
 "cells": [
  {
   "cell_type": "code",
   "execution_count": 71,
   "id": "40a037d2",
   "metadata": {},
   "outputs": [],
   "source": [
    "%matplotlib inline\n",
    "\n",
    "import numpy as np\n",
    "import matplotlib.pyplot as plt\n",
    "import torch\n",
    "from tqdm.notebook import tqdm"
   ]
  },
  {
   "cell_type": "code",
   "execution_count": 72,
   "id": "eeea7746",
   "metadata": {},
   "outputs": [],
   "source": [
    "from torchvision import datasets, transforms\n",
    "\n",
    "mnist_train = datasets.MNIST(root='./datasets', train=True, transform=transforms.ToTensor(), download=True)\n",
    "mnist_test = datasets.MNIST(root='./datasets', train=False, transform=transforms.ToTensor(), download=True)"
   ]
  },
  {
   "cell_type": "code",
   "execution_count": 73,
   "id": "5088e5bd",
   "metadata": {},
   "outputs": [
    {
     "name": "stdout",
     "output_type": "stream",
     "text": [
      "Number of MNIST training examples:60000\n",
      "Number of MNIST test examples:10000\n"
     ]
    }
   ],
   "source": [
    "print(f\"Number of MNIST training examples:{len(mnist_train)}\")\n",
    "print(f\"Number of MNIST test examples:{len(mnist_test)}\")"
   ]
  },
  {
   "cell_type": "code",
   "execution_count": 74,
   "id": "fad01f9a",
   "metadata": {},
   "outputs": [
    {
     "name": "stdout",
     "output_type": "stream",
     "text": [
      "Default image shapetorch.Size([1, 28, 28])\n",
      "reshaped image shape: torch.Size([28, 28])\n",
      "The label for this image: 1\n"
     ]
    },
    {
     "data": {
      "image/png": "[encoded data removed]",
      "text/plain": [
       "<Figure size 432x288 with 1 Axes>"
      ]
     },
     "metadata": {
      "needs_background": "light"
     },
     "output_type": "display_data"
    }
   ],
   "source": [
    "# pick out the 4th example from the training set\n",
    "image, label = mnist_train[3]\n",
    "\n",
    "# Plot the image\n",
    "print(f\"Default image shape{image.shape}\")\n",
    "image = image.reshape([28,28])\n",
    "print(f\"reshaped image shape: {image.shape}\")\n",
    "plt.imshow(image, cmap=\"gray\")\n",
    "\n",
    "# Print the label\n",
    "print(f\"The label for this image: {label}\")"
   ]
  },
  {
   "cell_type": "code",
   "execution_count": 75,
   "id": "8d256589",
   "metadata": {},
   "outputs": [],
   "source": [
    "# DataLoader shuffles the data and batches it\n",
    "train_loader = torch.utils.data.DataLoader(mnist_train, batch_size=100, shuffle=True)\n",
    "test_loader = torch.utils.data.DataLoader(mnist_test, batch_size=100, shuffle=False)"
   ]
  },
  {
   "cell_type": "code",
   "execution_count": 76,
   "id": "2b298b67",
   "metadata": {},
   "outputs": [
    {
     "name": "stdout",
     "output_type": "stream",
     "text": [
      "Shape of the minibatch of images: torch.Size([100, 1, 28, 28])\n",
      "Shape of the minibatch of labels: torch.Size([100])\n"
     ]
    }
   ],
   "source": [
    "# An example of a minibatch drawn from a DataLoader\n",
    "data_train_iter = iter(train_loader)\n",
    "images, labels = data_train_iter.next()\n",
    "\n",
    "print(f\"Shape of the minibatch of images: {images.shape}\")\n",
    "print(f\"Shape of the minibatch of labels: {labels.shape}\")"
   ]
  },
  {
   "cell_type": "code",
   "execution_count": 77,
   "id": "1294d7d5",
   "metadata": {},
   "outputs": [
    {
     "name": "stdout",
     "output_type": "stream",
     "text": [
      "The shape of input x: torch.Size([100, 784])\n"
     ]
    }
   ],
   "source": [
    "x = images.view(-1, 28*28)\n",
    "print(f\"The shape of input x: {x.shape}\")"
   ]
  },
  {
   "cell_type": "code",
   "execution_count": 78,
   "id": "ea67a863",
   "metadata": {},
   "outputs": [],
   "source": [
    "# Randomly initialize weights W\n",
    "W = torch.randn(784, 10)/np.sqrt(784)\n",
    "W.requires_grad_()\n",
    "\n",
    "# initialize bias b as 0s\n",
    "b = torch.zeros(10, requires_grad=True)"
   ]
  },
  {
   "cell_type": "code",
   "execution_count": 79,
   "id": "4629b6a2",
   "metadata": {},
   "outputs": [],
   "source": [
    "# Linear transformation with W and b\n",
    "y = torch.matmul(x, W) + b"
   ]
  },
  {
   "cell_type": "code",
   "execution_count": 80,
   "id": "b5ccd71d",
   "metadata": {},
   "outputs": [
    {
     "name": "stdout",
     "output_type": "stream",
     "text": [
      "tensor([ 0.2187,  0.1267,  0.4839, -0.0075,  0.3872, -0.3396, -0.0150, -0.2936,\n",
      "         0.2595,  0.2986], grad_fn=<SliceBackward>)\n"
     ]
    }
   ],
   "source": [
    "print(y[0,:])"
   ]
  },
  {
   "cell_type": "code",
   "execution_count": 81,
   "id": "33fd966f",
   "metadata": {},
   "outputs": [
    {
     "name": "stdout",
     "output_type": "stream",
     "text": [
      "py[0] from equation: tensor([0.1077, 0.0982, 0.1404, 0.0859, 0.1275, 0.0616, 0.0853, 0.0645, 0.1122,\n",
      "        0.1167], grad_fn=<SelectBackward>)\n",
      "py[0] with torch.nn.functional.softmax: tensor([0.1077, 0.0982, 0.1404, 0.0859, 0.1275, 0.0616, 0.0853, 0.0645, 0.1122,\n",
      "        0.1167], grad_fn=<SelectBackward>)\n"
     ]
    }
   ],
   "source": [
    "# Option 1: Softmax to probabilities from equation\n",
    "py_eq = torch.exp(y) / torch.sum(torch.exp(y), dim=1, keepdim=True)\n",
    "print(\"py[0] from equation: {}\".format(py_eq[0]))\n",
    "\n",
    "# Option 2: Softmax to probabilities with torch.nn.functional\n",
    "import torch.nn.functional as F\n",
    "py = F.softmax(y, dim=1)\n",
    "print('py[0] with torch.nn.functional.softmax: {}'.format(py[0]))"
   ]
  },
  {
   "cell_type": "code",
   "execution_count": 82,
   "id": "3ce1f1de",
   "metadata": {},
   "outputs": [
    {
     "name": "stdout",
     "output_type": "stream",
     "text": [
      "torch.Size([100])\n"
     ]
    }
   ],
   "source": [
    "print(labels.shape)"
   ]
  },
  {
   "cell_type": "code",
   "execution_count": 83,
   "id": "79214d40",
   "metadata": {},
   "outputs": [
    {
     "name": "stdout",
     "output_type": "stream",
     "text": [
      "Cross entropy from equation: 2.4112589359283447\n",
      "cross entropy with torch.nn.functional.cross_entropy: 2.4112589359283447\n"
     ]
    }
   ],
   "source": [
    "# Cross-entropy loss from equation\n",
    "cross_entropy_eq = torch.mean(-torch.log(py_eq)[range(labels.shape[0]), labels])\n",
    "print(\"Cross entropy from equation: {}\".format(cross_entropy_eq))\n",
    "\n",
    "# Option 2: Cross-entropy loss with torch.nn.functional\n",
    "cross_entropy = F.cross_entropy(y,labels)\n",
    "print(\"cross entropy with torch.nn.functional.cross_entropy: {}\".format(cross_entropy))"
   ]
  },
  {
   "cell_type": "code",
   "execution_count": 84,
   "id": "4d68b6c9",
   "metadata": {},
   "outputs": [],
   "source": [
    "# Optimizer\n",
    "optimizer = torch.optim.SGD([W,b], lr=0.1)"
   ]
  },
  {
   "cell_type": "code",
   "execution_count": 85,
   "id": "8b8bbd25",
   "metadata": {},
   "outputs": [],
   "source": [
    "cross_entropy.backward()"
   ]
  },
  {
   "cell_type": "code",
   "execution_count": 86,
   "id": "3c3d9553",
   "metadata": {},
   "outputs": [
    {
     "data": {
      "text/plain": [
       "tensor([-0.0115,  0.0140, -0.0009, -0.0661,  0.0528,  0.0260, -0.0260, -0.0416,\n",
       "         0.0156,  0.0377])"
      ]
     },
     "execution_count": 86,
     "metadata": {},
     "output_type": "execute_result"
    }
   ],
   "source": [
    "b.grad"
   ]
  },
  {
   "cell_type": "code",
   "execution_count": 87,
   "id": "d5945489",
   "metadata": {},
   "outputs": [],
   "source": [
    "optimizer.step()"
   ]
  },
  {
   "cell_type": "code",
   "execution_count": 88,
   "id": "bde57cea",
   "metadata": {
    "scrolled": true
   },
   "outputs": [
    {
     "data": {
      "text/plain": [
       "tensor([ 1.1515e-03, -1.4034e-03,  9.2953e-05,  6.6120e-03, -5.2849e-03,\n",
       "        -2.6015e-03,  2.6021e-03,  4.1596e-03, -1.5583e-03, -3.7700e-03],\n",
       "       requires_grad=True)"
      ]
     },
     "execution_count": 88,
     "metadata": {},
     "output_type": "execute_result"
    }
   ],
   "source": [
    "b"
   ]
  },
  {
   "cell_type": "code",
   "execution_count": 89,
   "id": "7f8e14a9",
   "metadata": {},
   "outputs": [
    {
     "name": "stdout",
     "output_type": "stream",
     "text": [
      "b.grad before zero_grad(): tensor([-0.0115,  0.0140, -0.0009, -0.0661,  0.0528,  0.0260, -0.0260, -0.0416,\n",
      "         0.0156,  0.0377])\n",
      "b.grad after zero_grad(): tensor([0., 0., 0., 0., 0., 0., 0., 0., 0., 0.])\n"
     ]
    }
   ],
   "source": [
    "print('b.grad before zero_grad(): {}'.format(b.grad))\n",
    "optimizer.zero_grad()\n",
    "print('b.grad after zero_grad(): {}'.format(b.grad))"
   ]
  },
  {
   "cell_type": "code",
   "execution_count": 90,
   "id": "292a2625",
   "metadata": {
    "scrolled": false
   },
   "outputs": [
    {
     "data": {
      "application/vnd.jupyter.widget-view+json": {
       "model_id": "4d38908583a14ff082e9246e55fb636c",
       "version_major": 2,
       "version_minor": 0
      },
      "text/plain": [
       "  0%|          | 0/600 [00:00<?, ?it/s]"
      ]
     },
     "metadata": {},
     "output_type": "display_data"
    }
   ],
   "source": [
    "# Train the model by interating through train set minibatches\n",
    "for images, label in tqdm(train_loader):\n",
    "    # Zero out the gradients\n",
    "    optimizer.zero_grad()\n",
    "    \n",
    "    # Forward Pass\n",
    "    x = images.view(-1, 28*28)\n",
    "    y = torch.matmul(x, W) + b\n",
    "    cross_entropy = F.cross_entropy(y, labels)\n",
    "    # Backward pass\n",
    "    cross_entropy.backward()\n",
    "    optimizer.step()"
   ]
  },
  {
   "cell_type": "code",
   "execution_count": 91,
   "id": "e751f6cf",
   "metadata": {},
   "outputs": [
    {
     "data": {
      "application/vnd.jupyter.widget-view+json": {
       "model_id": "d7d1937b8f084d9b9e3077414d4878e1",
       "version_major": 2,
       "version_minor": 0
      },
      "text/plain": [
       "  0%|          | 0/100 [00:00<?, ?it/s]"
      ]
     },
     "metadata": {},
     "output_type": "display_data"
    },
    {
     "name": "stdout",
     "output_type": "stream",
     "text": [
      "Test accuracy: 0.08079999685287476\n"
     ]
    }
   ],
   "source": [
    "correct = 0\n",
    "total = len(mnist_test)\n",
    "\n",
    "with torch.no_grad():\n",
    "    # Iterate through test set minibatches\n",
    "    for images, labels in tqdm(test_loader):\n",
    "        # Forward pass\n",
    "        x = images.view(-1,28*28)\n",
    "        y = torch.matmul(x,W) + b\n",
    "        \n",
    "        predictions = torch.argmax(y, dim=1)\n",
    "        correct += torch.sum((predictions == labels).float())\n",
    "        \n",
    "print(\"Test accuracy: {}\".format(correct/total))"
   ]
  },
  {
   "cell_type": "code",
   "execution_count": 92,
   "id": "109416ab",
   "metadata": {},
   "outputs": [
    {
     "data": {
      "image/png": "[encoded data removed]",
      "text/plain": [
       "<Figure size 1440x144 with 10 Axes>"
      ]
     },
     "metadata": {
      "needs_background": "light"
     },
     "output_type": "display_data"
    }
   ],
   "source": [
    "# Get weights\n",
    "fig, ax = plt.subplots(1, 10, figsize=(20, 2))\n",
    "\n",
    "for digit in range(10):\n",
    "    ax[digit].imshow(W[:,digit].detach().view(28,28), cmap='gray')"
   ]
  },
  {
   "cell_type": "markdown",
   "id": "46bf2426",
   "metadata": {},
   "source": [
    "Object-oriented Refactorization"
   ]
  },
  {
   "cell_type": "code",
   "execution_count": 93,
   "id": "8b3083fa",
   "metadata": {},
   "outputs": [
    {
     "data": {
      "application/vnd.jupyter.widget-view+json": {
       "model_id": "27ebff99e7bf45a6b8783a0707ad1cd4",
       "version_major": 2,
       "version_minor": 0
      },
      "text/plain": [
       "  0%|          | 0/600 [00:00<?, ?it/s]"
      ]
     },
     "metadata": {},
     "output_type": "display_data"
    },
    {
     "data": {
      "application/vnd.jupyter.widget-view+json": {
       "model_id": "a295f28d5239484fbfb3ad8ecf3e1a96",
       "version_major": 2,
       "version_minor": 0
      },
      "text/plain": [
       "  0%|          | 0/100 [00:00<?, ?it/s]"
      ]
     },
     "metadata": {},
     "output_type": "display_data"
    },
    {
     "name": "stdout",
     "output_type": "stream",
     "text": [
      "Test accuracy: 0.9020000100135803\n"
     ]
    }
   ],
   "source": [
    "import numpy as np\n",
    "import torch\n",
    "import torch.nn as nn\n",
    "import torch.nn.functional as F\n",
    "from torchvision import datasets, transforms\n",
    "from tqdm.notebook import tqdm\n",
    "\n",
    "class MNIST_Logistic_Regression(nn.Module):\n",
    "    def __init__(self):\n",
    "        super().__init__()\n",
    "        self.lin = nn.Linear(784, 10)\n",
    "\n",
    "    def forward(self, x):\n",
    "        return self.lin(x)\n",
    "\n",
    "# Load the data\n",
    "mnist_train = datasets.MNIST(root=\"./datasets\", train=True, transform=transforms.ToTensor(), download=True)\n",
    "mnist_test = datasets.MNIST(root=\"./datasets\", train=False, transform=transforms.ToTensor(), download=True)\n",
    "train_loader = torch.utils.data.DataLoader(mnist_train, batch_size=100, shuffle=True)\n",
    "test_loader = torch.utils.data.DataLoader(mnist_test, batch_size=100, shuffle=False)\n",
    "\n",
    "## Training\n",
    "# Instantiate model\n",
    "model = MNIST_Logistic_Regression()\n",
    "\n",
    "# Loss and Optimizer\n",
    "criterion = nn.CrossEntropyLoss()\n",
    "optimizer = torch.optim.SGD(model.parameters(), lr=0.1)\n",
    "\n",
    "# Iterate through train set minibatchs \n",
    "for images, labels in tqdm(train_loader):\n",
    "    # Zero out the gradients\n",
    "    optimizer.zero_grad()\n",
    "    \n",
    "    # Forward pass\n",
    "    x = images.view(-1, 28*28)\n",
    "    y = model(x)\n",
    "    loss = criterion(y, labels)\n",
    "    # Backward pass\n",
    "    loss.backward()\n",
    "    optimizer.step()\n",
    "\n",
    "## Testing\n",
    "correct = 0\n",
    "total = len(mnist_test)\n",
    "\n",
    "with torch.no_grad():\n",
    "    # Iterate through test set minibatchs \n",
    "    for images, labels in tqdm(test_loader):\n",
    "        # Forward pass\n",
    "        x = images.view(-1, 28*28)\n",
    "        y = model(x)\n",
    "        \n",
    "        predictions = torch.argmax(y, dim=1)\n",
    "        correct += torch.sum((predictions == labels).float())\n",
    "    \n",
    "print('Test accuracy: {}'.format(correct/total))"
   ]
  }
 ],
 "metadata": {
  "kernelspec": {
   "display_name": "Python 3 (ipykernel)",
   "language": "python",
   "name": "python3"
  },
  "language_info": {
   "codemirror_mode": {
    "name": "ipython",
    "version": 3
   },
   "file_extension": ".py",
   "mimetype": "text/x-python",
   "name": "python",
   "nbconvert_exporter": "python",
   "pygments_lexer": "ipython3",
   "version": "3.9.5"
  }
 },
 "nbformat": 4,
 "nbformat_minor": 5
}
